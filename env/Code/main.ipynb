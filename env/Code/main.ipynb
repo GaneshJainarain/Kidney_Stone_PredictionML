{
 "cells": [
  {
   "cell_type": "markdown",
   "metadata": {},
   "source": [
    "# Kidney Stone Prediction based on Urine Analysis\n",
    "\n",
    "## Task: Develop ML/DL models to predict occurrence of kidney stones"
   ]
  },
  {
   "cell_type": "markdown",
   "metadata": {},
   "source": [
    "### Data Understanding\n",
    "\n",
    "\n",
    "This dataset can be used to predict the presence of kidney stones based on urine analysis.\n",
    "\n",
    "The `79 urine specimens`, were analyzed in an effort to\n",
    "determine if certain `physical characteristics of the urine` might be related to the\n",
    "formation of `calcium oxalate crystals`.\n",
    "\n",
    "The `six physical characteristics` of the urine are: \n",
    "\n",
    "- `(1) specific gravity`, the density of the urine relative to water;\n",
    "- `(2) pH`, the negative logarithm of the hydrogen ion; \n",
    "- `(3) osmolarity (mOsm)`, a unit used in biology and medicine but not in\n",
    "physical chemistry. Osmolarity is proportional to the concentration of\n",
    "molecules in solution;\n",
    "- `(4) conductivity (mMho milliMho)`. One Mho is one reciprocal Ohm.\n",
    "Conductivity is proportional to the concentration of charged\n",
    "ions in solution; \n",
    "- `(5) urea concentration in millimoles per litre`;\n",
    "- `(6) calcium concentration (CALC) in millimolesllitre`.\n",
    "\n",
    "The data is obtained from 'Physical Characteristics of Urines With and Without Crystals',a chapter from Springer Series in Statistics.\n",
    "\n",
    "https://link.springer.com/chapter/10.1007/978-1-4612-5098-2_45"
   ]
  },
  {
   "cell_type": "markdown",
   "metadata": {},
   "source": [
    "### Data Understanding II\n",
    "\n",
    "There are two datasets, The original dataset and the generated dataset, we will be using both to compare and contrast features etc.\n",
    "\n",
    "Files from the generated dataset:\n",
    "\n",
    "- `train.csv` - the training dataset; `target` is the likelihood of a kidney stone being present\n",
    "- `test.csv` - the test dataset; your objective is to `predict the probability of target`\n",
    "- `sample_submission.csv` - a sample submission file in the correct format\n",
    "\n",
    "Files from the original dataset:\n",
    "\n",
    "- `kindey_stone_urine_analysis.csv`\n"
   ]
  }
 ],
 "metadata": {
  "kernelspec": {
   "display_name": "Python 3.10.5 64-bit",
   "language": "python",
   "name": "python3"
  },
  "language_info": {
   "name": "python",
   "version": "3.10.5"
  },
  "orig_nbformat": 4,
  "vscode": {
   "interpreter": {
    "hash": "aee8b7b246df8f9039afb4144a1f6fd8d2ca17a180786b69acc140d282b71a49"
   }
  }
 },
 "nbformat": 4,
 "nbformat_minor": 2
}
